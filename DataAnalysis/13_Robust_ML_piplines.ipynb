{
 "cells": [
  {
   "attachments": {},
   "cell_type": "markdown",
   "metadata": {},
   "source": [
    "# Robust machine learning with ML Pipelines\n",
    "\n",
    "Previously, we set the stage for machine learning: from a raw data set, we tamed the data and crafted features based on our exploration and analysis of the data. We continue our journey with ML. We delve deeper into transformers and estimators, this time in the context of an ML pipeline. With this new tool, we first train and evaluate our initial model. We then learn about customizing an ML pipeline at runtime, using cross-validation, a popular ML optimization technique, for optimizing our model parameters. Finally, we briefly discuss model interpretability by extracting the model coefficients (the weights attributed to each\n",
    "parameter) from our ML pipeline.\n",
    "\n",
    "### Transformers and estimators: The building blocks of ML in spark\n",
    "\n",
    "We take a second look at transformers and estimators in the context of reusable and parameterizable building blocks. It is crucial that we understand not only how to create, but also how to modify those building blocks to use ML pipelines with optimal efficiency.\n",
    "\n",
    "Transformers and estimators are very useful classes for ML modeling. When we train an ML model, we get back a fitted model, which is akin to a new program that we did not code explicitly. This new data-driven program then has one sole purpose: taking a properly formatted data set and transforming it by appending a prediction column. \n",
    "\n",
    "To illustrate how a transformer and an estimator are parameterized, we will use a transformer and an estimator defined and used in [previous chapter](./12_Preparing_ML_Features.ipynb):\n",
    "- `continuous_assembler` — a VectorAssembler transformer that takes five columns and creates a Vector column to be used for model training\n",
    "- `consinuous_scaler` — a MinMaxScaler estimator that scales values contained in a Vector column, returning values between 0 and 1 for each element in the vectors"
   ]
  },
  {
   "cell_type": "code",
   "execution_count": 5,
   "metadata": {},
   "outputs": [],
   "source": [
    "%%capture\n",
    "%run ./12_Preparing_ML_Features.ipynb\n",
    "# Restoring the previous notebook, variables and imports"
   ]
  },
  {
   "cell_type": "code",
   "execution_count": 6,
   "metadata": {},
   "outputs": [],
   "source": [
    "from pyspark.ml.feature import MinMaxScaler\n",
    "from pyspark.ml.feature import VectorAssembler\n",
    "\n",
    "CONTINUOUS_NB = [\"rating\", \"calories_i\", \"protein_i\", \"fat_i\", \"sodium_i\"]\n",
    "\n",
    "continuous_assembler = VectorAssembler(\n",
    "    inputCols=CONTINUOUS_NB, outputCol=\"continuous\"\n",
    ")\n",
    "\n",
    "continuous_scaler = MinMaxScaler(\n",
    "    inputCol=\"continuous\",\n",
    "    outputCol=\"continuous_scaled\",\n",
    ")"
   ]
  },
  {
   "attachments": {},
   "cell_type": "markdown",
   "metadata": {},
   "source": [
    "### Data comes in, data comes out: The Transformer\n",
    "\n",
    "In our `VectorAssembler` transformer example, we provide two arguments to the constructor: `inputCols` and `outpulCol`. These arguments provide the necessary functionality to create a fully functional `VectorAssembler` transformer. This transformer’s sole purpose—through its `transform()` method—is to take the values in `inputCols` (assembled values) and return a single column, named `outputCol`, that contains a vector of all the assembled values.\n",
    "\n",
    "The parameterization of a transformer is called _Params_ (capital P). When instantiating a transformers class, just like with any Python class, we pass the parameters we want as arguments, making sure to explicitly specify each keyword. Once the transformer has been instantiated, PySpark provides us with a set of methods to extract and modify Params. \n",
    "\n",
    "<img src=\"images/continuous_assembler.png\">"
   ]
  },
  {
   "attachments": {},
   "cell_type": "markdown",
   "metadata": {},
   "source": [
    "##### PEEKING UNDER THE HOOD: GETTING AND EXPLAINING THE PARAMS\n",
    "\n",
    "The instantiation of VectorAssembler accepted three arguments: `inputCols`, `outputCol`, and `handleInvalid`. We also hinted that the configuration of a transformer (and estimator, by the same occasion) class instance relied on Params, which drove the behavior of the transformers. In this section, we explore Params, highlight their similarities and differences compared to regular class attributes, and address why those differences matter. "
   ]
  },
  {
   "cell_type": "code",
   "execution_count": 8,
   "metadata": {},
   "outputs": [
    {
     "name": "stdout",
     "output_type": "stream",
     "text": [
      "VectorAssembler_04f89de08434__outputCol\n"
     ]
    }
   ],
   "source": [
    "print(continuous_assembler.outputCol)\n",
    "# VectorAssembler_e18a6589d2d5__outputCol\n",
    "\n",
    "# Rather than returning the continuous\n",
    "# value passed as an argument to outputCol,\n",
    "# we get an object called a Param."
   ]
  },
  {
   "cell_type": "code",
   "execution_count": 9,
   "metadata": {},
   "outputs": [
    {
     "name": "stdout",
     "output_type": "stream",
     "text": [
      "continuous\n"
     ]
    }
   ],
   "source": [
    "print(continuous_assembler.getOutputCol()) # => continuous"
   ]
  },
  {
   "cell_type": "code",
   "execution_count": 10,
   "metadata": {},
   "outputs": [
    {
     "name": "stdout",
     "output_type": "stream",
     "text": [
      "outputCol: output column name. (default: VectorAssembler_04f89de08434__output, current: continuous)\n"
     ]
    }
   ],
   "source": [
    "print(continuous_assembler.explainParam(\"outputCol\"))\n",
    "# outputCol: output column name.\n",
    "# (default: VectorAssembler_e18a6589d2d5__output, current: continuous)"
   ]
  },
  {
   "attachments": {},
   "cell_type": "markdown",
   "metadata": {},
   "source": [
    "##### SETTING PARAMS OF AN INSTANTIATED TRANSFORMER USING GETTERS AND SETTERS\n",
    "\n",
    "How do we change the Params of a transformer? For every getter, there is a setter, which is simply putting the word set, followed by the name of our Param in CamelCase. Unlike getters, setters take the new value as their sole argument. \n",
    "\n"
   ]
  },
  {
   "cell_type": "code",
   "execution_count": 11,
   "metadata": {},
   "outputs": [
    {
     "name": "stdout",
     "output_type": "stream",
     "text": [
      "more_continuous\n"
     ]
    }
   ],
   "source": [
    "continuous_assembler.setOutputCol(\"more_continuous\")\n",
    "\n",
    "print(continuous_assembler.getOutputCol()) # => more_continuous"
   ]
  },
  {
   "cell_type": "code",
   "execution_count": 12,
   "metadata": {},
   "outputs": [
    {
     "name": "stdout",
     "output_type": "stream",
     "text": [
      "handleInvalid: How to handle invalid data (NULL and NaN values). Options are 'skip' (filter out rows with invalid data), 'error' (throw an error), or 'keep' (return relevant number of NaN in the output). Column lengths are taken from the size of ML Attribute Group, which can be set using `VectorSizeHint` in a pipeline before `VectorAssembler`. Column lengths can also be inferred from first rows of the data since it is safe to do so but only in case of 'error' or 'skip'). (default: error, current: skip)\n",
      "inputCols: input column names. (current: ['one', 'two', 'three'])\n",
      "outputCol: output column name. (default: VectorAssembler_04f89de08434__output, current: more_continuous)\n"
     ]
    }
   ],
   "source": [
    "continuous_assembler.setParams(\n",
    "    inputCols=[\"one\", \"two\", \"three\"], handleInvalid=\"skip\"\n",
    ")\n",
    "\n",
    "print(continuous_assembler.explainParams())"
   ]
  },
  {
   "attachments": {},
   "cell_type": "markdown",
   "metadata": {},
   "source": [
    "Finally, if you want to return a Param to its default value, you can use the `clear()` method. This time, you need to pass the Param object. we reset the handleInvalid Param by using clear(). We pass the actual Param as an argument, accessed via the attribute slot seen at the beginning of the section, `continuous_assembler.handleInvalid`. "
   ]
  },
  {
   "cell_type": "code",
   "execution_count": 13,
   "metadata": {},
   "outputs": [
    {
     "name": "stdout",
     "output_type": "stream",
     "text": [
      "error\n"
     ]
    }
   ],
   "source": [
    "continuous_assembler.clear(continuous_assembler.handleInvalid)\n",
    "\n",
    "print(continuous_assembler.getHandleInvalid()) # => error"
   ]
  },
  {
   "attachments": {},
   "cell_type": "markdown",
   "metadata": {},
   "source": [
    "### Data comes in, transformer comes out: The Estimator\n",
    "\n",
    "Where a transformer transforms an input data frame into an output data frame, an estimator is fitted on an input data frame and returns an output transformer. In this section, we see that this relationship between transformers and estimators means that they are Param-eterized the same way.\n",
    "\n",
    "Where a transformer uses a transform() method, applied to a data frame, to return a transformed data frame, an estimator uses a fit() method, applied to a data frame, to return a fully parameterized transformer called a Model. This distinction enables estimators to configure transformers based on the input data.\n",
    "\n",
    "As an example, the MinMaxScaler estimator 13.2 takes four parameters, two of which rely on the default value:\n",
    "- min and max, which are the minimum and maximum values our scaled column will take. We keep both at their default of 0.0 and 1.0, respectively.\n",
    "- inputCols and outputCols are the input and output column, respectively. They follow the same conventions as the transformer.\n",
    "\n",
    "$$MMS(e_i) = \\left(\\frac{e_i - E_{min}}{E_{max} - E_{min}} \\text{x} (max - min)\\right)$$\n",
    "\n",
    "<img src=\"images/min_max_estimator.png\">"
   ]
  },
  {
   "attachments": {},
   "cell_type": "markdown",
   "metadata": {},
   "source": [
    "Because the transformation relies on actual values from the data, we can’t use a plain transformer, which expects to “know” everything (through its Param-eterization) before it can apply the `transform()` method. In the case of the `MinMaxScaler`, we can translate `E_min` and `E_max` as simple operations (`min()` and `max()` come from `pyspark.sql.functions`):\n",
    "- E_min = min(inputCol)\n",
    "- E_max = max(inputCol)\n",
    "\n",
    "Once these values are computed (during the `fit()` method), PySpark creates, Parameterizes, and returns a transformer/model."
   ]
  },
  {
   "attachments": {},
   "cell_type": "markdown",
   "metadata": {},
   "source": [
    "### BUilding a (complete) machine learning pipeline\n",
    "\n",
    "Pipelines build on transformers and estimators to make training, evaluating, and optimizing ML models much clearer and more explicit. ML pipelines are implemented through the Pipeline class, which is a specialized version of the estimator. The Pipeline estimator has only one Param, called stages, which takes a list of transformers and estimators. \n",
    "\n"
   ]
  },
  {
   "cell_type": "code",
   "execution_count": 14,
   "metadata": {},
   "outputs": [],
   "source": [
    "from pyspark.ml import Pipeline\n",
    "import pyspark.ml.feature as MF\n",
    "\n",
    "imputer = MF.Imputer(\n",
    "    strategy=\"mean\",\n",
    "    inputCols=[\"calories\", \"protein\", \"fat\", \"sodium\"],\n",
    "    outputCols=[\"calories_i\", \"protein_i\", \"fat_i\", \"sodium_i\"],\n",
    ")\n",
    "\n",
    "continuous_assembler = MF.VectorAssembler(\n",
    "    inputCols=[\"rating\", \"calories_i\", \"protein_i\", \"fat_i\", \"sodium_i\"],\n",
    "    outputCol=\"continuous\",\n",
    ")\n",
    "\n",
    "continuous_scaler = MF.MinMaxScaler(\n",
    "    inputCol=\"continuous\",\n",
    "    outputCol=\"continuous_scaled\",\n",
    ")\n",
    "\n",
    "food_pipeline = Pipeline(\n",
    "    stages=[imputer, continuous_assembler, continuous_scaler]\n",
    ")\n"
   ]
  },
  {
   "attachments": {},
   "cell_type": "markdown",
   "metadata": {},
   "source": [
    "In practical terms, since the pipeline is an estimator, it has a `fit()` method that generates a `PipelineModel`. Under the hood, the pipeline applies each stage in order, calling the appropriate method depending on if the stage is a transformer (`transform()`) or an estimator (`fit()`). By wrapping all of our individual stages into a pipeline, we only have one method to call, `fit()`, knowing that PySpark will do the right thing to yield a `PipelineModel`.\n",
    "\n",
    "<img src=\"images/ml_pipeline.png\">"
   ]
  },
  {
   "attachments": {},
   "cell_type": "markdown",
   "metadata": {},
   "source": [
    "When using pipelines, remember that the data frame will travel each stage. For instance, the `continuous_scaler` stage will have the output of the data frame transformed by `continuous_scaler`. For estimator stages, the data frame stays identical, as `fit()` does not transform the data frame but returns a Model instead."
   ]
  },
  {
   "attachments": {},
   "cell_type": "markdown",
   "metadata": {},
   "source": [
    "#### Assembling the final data set with the vector column type\n",
    "\n",
    "We already know how to assemble data into a vector: use the `VectorAssembler`. Nothing is new here; we can create a `VectorAssembler` stage to assemble all the columns we want to be provided to our ML training. We assemble all of our `BINARY_COLUMNS`, the `_ratio` columns we created in [previous chapter](./12_Preparing_ML_Features.ipynb), and the `continuous_scaled` vector column from our pipeline. PySpark will do the right thing when assembling vector columns in another vector: rather than getting nested vectors, the assembly step will flatten everything into a single, ready-to-use vector."
   ]
  },
  {
   "cell_type": "code",
   "execution_count": 15,
   "metadata": {},
   "outputs": [],
   "source": [
    "preml_assembler = MF.VectorAssembler(\n",
    "    inputCols=BINARY_COLUMNS\n",
    "    + [\"continuous_scaled\"]\n",
    "    + [\"protein_ratio\", \"fat_ratio\"],\n",
    "    outputCol=\"features\",\n",
    ")\n",
    "\n",
    "food_pipeline.setStages(\n",
    "    [imputer, continuous_assembler, continuous_scaler, preml_assembler]\n",
    ")\n",
    "\n",
    "food_pipeline_model = food_pipeline.fit(food)\n",
    "food_features = food_pipeline_model.transform(food)"
   ]
  },
  {
   "attachments": {},
   "cell_type": "markdown",
   "metadata": {},
   "source": [
    "Our data frame is ready for machine learning! We have a number of records, each with\n",
    "- A target (or label ) column, dessert, containing a binary input (1.0 if the recipe is a dessert, 0.0 otherwise)\n",
    "- A vector of features, called features, containing all the information we want to train our machine learning model with.\n",
    "\n",
    "When we look at the relevant columns in our data frame, like in cell below, we see that the features column looks very different than anything we’ve seen before. We provide 513 distinct features (see the 513 at the beginning of the features column value) with a large number of zeroes. This is called a sparse features set. When storing vectors, PySpark has two choices for representing vectors:\n",
    "- A `dense` representation, where a Vector in PySpark is simply a NumPy (a high-performance multidimensional array library for Python) single-dimensional array object.\n",
    "- A `sparse` representation, where a Vector in PySpark is an optimized sparse vector compatible with the SciPy (a scientific computing library in Python) `scipy.sparse` matrix. "
   ]
  },
  {
   "cell_type": "code",
   "execution_count": 16,
   "metadata": {},
   "outputs": [
    {
     "name": "stdout",
     "output_type": "stream",
     "text": [
      "+------------------------------+-------+------------------------------+\n",
      "|                         title|dessert|                      features|\n",
      "+------------------------------+-------+------------------------------+\n",
      "|Lentil, Apple, and Turkey W...|    0.0|(513,[24,130,139,148,163,19...|\n",
      "|Boudin Blanc Terrine with R...|    0.0|(513,[18,47,175,178,181,218...|\n",
      "| Potato and Fennel Soup Hodge |    0.0|(513,[24,52,95,212,217,391,...|\n",
      "|Mahi-Mahi in Tomato Olive S...|    0.0|(513,[63,67,100,118,144,184...|\n",
      "|     Spinach Noodle Casserole |    0.0|(513,[18,24,31,34,95,323,46...|\n",
      "+------------------------------+-------+------------------------------+\n",
      "only showing top 5 rows\n",
      "\n"
     ]
    }
   ],
   "source": [
    "food_features.select(\"title\", \"dessert\", \"features\").show(5, truncate=30)"
   ]
  },
  {
   "attachments": {},
   "cell_type": "markdown",
   "metadata": {},
   "source": [
    "In practice, you don’t decide if a Vector is sparse or dense: PySpark will convert between the two as needed. I bring the difference up since they look different when you `show()` them within a data frame. \n",
    "A sparse vector is a triple containing\n",
    "- The length of a vector\n",
    "- An array of positions where the elements are nonzero\n",
    "- An array of nonzero values\n",
    "\n",
    "\n",
    "    `Dense: [0.0, 1.0, 4.0, 0.0]`\n",
    "    \n",
    "    `Sparse: (4, [1,2], [1.0, 4.0])`"
   ]
  },
  {
   "cell_type": "code",
   "execution_count": 17,
   "metadata": {},
   "outputs": [
    {
     "name": "stdout",
     "output_type": "stream",
     "text": [
      "StructField(features,VectorUDT,true)\n"
     ]
    }
   ],
   "source": [
    "# Getting PySpark to unfold the metadata\n",
    "\n",
    "print(food_features.schema[\"features\"])\n"
   ]
  },
  {
   "cell_type": "code",
   "execution_count": 18,
   "metadata": {},
   "outputs": [
    {
     "name": "stdout",
     "output_type": "stream",
     "text": [
      "{'ml_attr': {'attrs': {'numeric': [{'idx': 0, 'name': 'bass'}, {'idx': 1, 'name': 'cornmeal'}, {'idx': 2, 'name': 'brine'}, {'idx': 3, 'name': 'chile_pepper'}, {'idx': 4, 'name': 'vodka'}, {'idx': 5, 'name': 'parsnip'}, {'idx': 6, 'name': 'parmesan'}, {'idx': 7, 'name': 'green_bean'}, {'idx': 8, 'name': 'no_sugar_added'}, {'idx': 9, 'name': 'tailgating'}, {'idx': 10, 'name': 'triple_sec'}, {'idx': 11, 'name': 'swiss_cheese'}, {'idx': 12, 'name': 'turnip'}, {'idx': 13, 'name': 'new_jersey'}, {'idx': 14, 'name': 'oktoberfest'}, {'idx': 15, 'name': 'fortified_wine'}, {'idx': 16, 'name': 'beer'}, {'idx': 17, 'name': 'weelicious'}, {'idx': 18, 'name': 'bake'}, {'idx': 19, 'name': 'super_bowl'}, {'idx': 20, 'name': 'paprika'}, {'idx': 21, 'name': 'lemon'}, {'idx': 22, 'name': 'pennsylvania'}, {'idx': 23, 'name': 'pomegranate'}, {'idx': 24, 'name': 'vegetable'}, {'idx': 25, 'name': 'poach'}, {'idx': 26, 'name': 'grapefruit'}, {'idx': 27, 'name': 'ohio'}, {'idx': 28, 'name': 'roast'}, {'idx': 29, 'name': 'lunar_new_year'}, {'idx': 30, 'name': 'garlic'}, {'idx': 31, 'name': 'pasta'}, {'idx': 32, 'name': 'arugula'}, {'idx': 33, 'name': 'peach'}, {'idx': 34, 'name': 'cheese'}, {'idx': 35, 'name': 'lamb_chop'}, {'idx': 36, 'name': 'halloween'}, {'idx': 37, 'name': 'pittsburgh'}, {'idx': 38, 'name': 'asian_pear'}, {'idx': 39, 'name': 'beef_rib'}, {'idx': 40, 'name': 'jerusalem_artichoke'}, {'idx': 41, 'name': 'beef'}, {'idx': 42, 'name': 'microwave'}, {'idx': 43, 'name': 'brie'}, {'idx': 44, 'name': 'sugar_conscious'}, {'idx': 45, 'name': 'poppy'}, {'idx': 46, 'name': 'kiwi'}, {'idx': 47, 'name': 'pork'}, {'idx': 48, 'name': 'hazelnut'}, {'idx': 49, 'name': 'france'}, {'idx': 50, 'name': 'rhubarb'}, {'idx': 51, 'name': 'tea'}, {'idx': 52, 'name': 'soup_stew'}, {'idx': 53, 'name': 'ham'}, {'idx': 54, 'name': 'north_carolina'}, {'idx': 55, 'name': 'salad'}, {'idx': 56, 'name': 'champagne'}, {'idx': 57, 'name': 'low_sugar'}, {'idx': 58, 'name': 'family_reunion'}, {'idx': 59, 'name': 'st_patricks_day'}, {'idx': 60, 'name': 'valentines_day'}, {'idx': 61, 'name': 'orange_juice'}, {'idx': 62, 'name': 'dill'}, {'idx': 63, 'name': 'high_fiber'}, {'idx': 64, 'name': 'spring'}, {'idx': 65, 'name': 'pine_nut'}, {'idx': 66, 'name': 'escarole'}, {'idx': 67, 'name': 'tree_nut_free'}, {'idx': 68, 'name': 'wok'}, {'idx': 69, 'name': 'lima_bean'}, {'idx': 70, 'name': 'plum'}, {'idx': 71, 'name': 'prune'}, {'idx': 72, 'name': 'thyme'}, {'idx': 73, 'name': 'cookies'}, {'idx': 74, 'name': 'drinks'}, {'idx': 75, 'name': 'radish'}, {'idx': 76, 'name': 'kirsch'}, {'idx': 77, 'name': 'tropical_fruit'}, {'idx': 78, 'name': 'scallop'}, {'idx': 79, 'name': 'shrimp'}, {'idx': 80, 'name': 'tarragon'}, {'idx': 81, 'name': 'slow_cooker'}, {'idx': 82, 'name': 'fathers_day'}, {'idx': 83, 'name': 'pistachio'}, {'idx': 84, 'name': 'wild_rice'}, {'idx': 85, 'name': 'chile'}, {'idx': 86, 'name': 'avocado'}, {'idx': 87, 'name': 'cherry'}, {'idx': 88, 'name': 'salad_dressing'}, {'idx': 89, 'name': 'sherry'}, {'idx': 90, 'name': 'jalapeño'}, {'idx': 91, 'name': 'spinach'}, {'idx': 92, 'name': 'tree_nut'}, {'idx': 93, 'name': 'marsala'}, {'idx': 94, 'name': 'cottage_cheese'}, {'idx': 95, 'name': 'dairy'}, {'idx': 96, 'name': 'stew'}, {'idx': 97, 'name': 'chicken'}, {'idx': 98, 'name': 'mango'}, {'idx': 99, 'name': 'parade'}, {'idx': 100, 'name': 'low_fat'}, {'idx': 101, 'name': 'kale'}, {'idx': 102, 'name': 'semolina'}, {'idx': 103, 'name': 'mayonnaise'}, {'idx': 104, 'name': 'yellow_squash'}, {'idx': 105, 'name': 'buffet'}, {'idx': 106, 'name': 'kentucky_derby'}, {'idx': 107, 'name': 'bell_pepper'}, {'idx': 108, 'name': 'game'}, {'idx': 109, 'name': 'double_boiler'}, {'idx': 110, 'name': 'couscous'}, {'idx': 111, 'name': 'fat_free'}, {'idx': 112, 'name': 'rum'}, {'idx': 113, 'name': 'wedding'}, {'idx': 114, 'name': 'squid'}, {'idx': 115, 'name': 'minnesota'}, {'idx': 116, 'name': 'tequila'}, {'idx': 117, 'name': 'hors_doeuvre'}, {'idx': 118, 'name': 'low_cal'}, {'idx': 119, 'name': 'seed'}, {'idx': 120, 'name': 'sesame_oil'}, {'idx': 121, 'name': 'broccoli_rabe'}, {'idx': 122, 'name': 'whole_wheat'}, {'idx': 123, 'name': 'mothers_day'}, {'idx': 124, 'name': 'veal'}, {'idx': 125, 'name': 'okra'}, {'idx': 126, 'name': 'self'}, {'idx': 127, 'name': 'liqueur'}, {'idx': 128, 'name': 'pan_fry'}, {'idx': 129, 'name': 'diwali'}, {'idx': 130, 'name': 'lettuce'}, {'idx': 131, 'name': 'oyster'}, {'idx': 132, 'name': 'gouda'}, {'idx': 133, 'name': 'anniversary'}, {'idx': 134, 'name': 'cardamom'}, {'idx': 135, 'name': 'butterscotch_caramel'}, {'idx': 136, 'name': 'meat'}, {'idx': 137, 'name': 'blackberry'}, {'idx': 138, 'name': 'pickles'}, {'idx': 139, 'name': 'apple'}, {'idx': 140, 'name': 'bacon'}, {'idx': 141, 'name': 'seafood'}, {'idx': 142, 'name': 'colorado'}, {'idx': 143, 'name': 'guava'}, {'idx': 144, 'name': 'kosher'}, {'idx': 145, 'name': 'shavuot'}, {'idx': 146, 'name': 'grill_barbecue'}, {'idx': 147, 'name': 'shellfish'}, {'idx': 148, 'name': 'sandwich'}, {'idx': 149, 'name': 'pernod'}, {'idx': 150, 'name': 'campari'}, {'idx': 151, 'name': 'tortillas'}, {'idx': 152, 'name': 'sukkot'}, {'idx': 153, 'name': 'christmas'}, {'idx': 154, 'name': 'buttermilk'}, {'idx': 155, 'name': 'walnut'}, {'idx': 156, 'name': 'pepper'}, {'idx': 157, 'name': 'sandwich_theory'}, {'idx': 158, 'name': 'lamb'}, {'idx': 159, 'name': 'halibut'}, {'idx': 160, 'name': 'jam_or_jelly'}, {'idx': 161, 'name': 'oregon'}, {'idx': 162, 'name': 'quince'}, {'idx': 163, 'name': 'cookie'}, {'idx': 164, 'name': 'monterey_jack'}, {'idx': 165, 'name': 'birthday'}, {'idx': 166, 'name': 'cheddar'}, {'idx': 167, 'name': 'los_angeles'}, {'idx': 168, 'name': 'mardi_gras'}, {'idx': 169, 'name': 'cocktail_party'}, {'idx': 170, 'name': 'corn'}, {'idx': 171, 'name': 'steam'}, {'idx': 172, 'name': 'maple_syrup'}, {'idx': 173, 'name': 'pea'}, {'idx': 174, 'name': 'drink'}, {'idx': 175, 'name': 'food_processor'}, {'idx': 176, 'name': 'bitters'}, {'idx': 177, 'name': 'sausage'}, {'idx': 178, 'name': 'chill'}, {'idx': 179, 'name': 'cinnamon'}, {'idx': 180, 'name': 'margarita'}, {'idx': 181, 'name': 'new_years_eve'}, {'idx': 182, 'name': 'orange'}, {'idx': 183, 'name': 'tomatillo'}, {'idx': 184, 'name': 'healthy'}, {'idx': 185, 'name': 'party'}, {'idx': 186, 'name': 'tamarind'}, {'idx': 187, 'name': 'olive'}, {'idx': 188, 'name': 'low_sodium'}, {'idx': 189, 'name': 'cod'}, {'idx': 190, 'name': 'sage'}, {'idx': 191, 'name': 'cream_cheese'}, {'idx': 192, 'name': 'squash'}, {'idx': 193, 'name': 'endive'}, {'idx': 194, 'name': 'poultry_sausage'}, {'idx': 195, 'name': 'fruit'}, {'idx': 196, 'name': 'snack'}, {'idx': 197, 'name': 'cabbage'}, {'idx': 198, 'name': 'sauté'}, {'idx': 199, 'name': 'marinate'}, {'idx': 200, 'name': 'lobster'}, {'idx': 201, 'name': 'fruit_juice'}, {'idx': 202, 'name': 'date'}, {'idx': 203, 'name': 'salmon'}, {'idx': 204, 'name': 'cantaloupe'}, {'idx': 205, 'name': 'honeydew'}, {'idx': 206, 'name': 'nut'}, {'idx': 207, 'name': 'pizza'}, {'idx': 208, 'name': 'quick_and_healthy'}, {'idx': 209, 'name': 'egg'}, {'idx': 210, 'name': 'back_to_school'}, {'idx': 211, 'name': 'michigan'}, {'idx': 212, 'name': 'gourmet'}, {'idx': 213, 'name': 'oregano'}, {'idx': 214, 'name': 'prosciutto'}, {'idx': 215, 'name': 'yogurt'}, {'idx': 216, 'name': 'easter'}, {'idx': 217, 'name': 'new_york'}, {'idx': 218, 'name': 'port'}, {'idx': 219, 'name': 'vegan'}, {'idx': 220, 'name': 'chestnut'}, {'idx': 221, 'name': 'raw'}, {'idx': 222, 'name': 'onion'}, {'idx': 223, 'name': 'brunch'}, {'idx': 224, 'name': 'bread'}, {'idx': 225, 'name': 'mandoline'}, {'idx': 226, 'name': 'south_carolina'}, {'idx': 227, 'name': 'rutabaga'}, {'idx': 228, 'name': 'soy'}, {'idx': 229, 'name': 'goose'}, {'idx': 230, 'name': 'nectarine'}, {'idx': 231, 'name': 'seattle'}, {'idx': 232, 'name': 'braise'}, {'idx': 233, 'name': 'blueberry'}, {'idx': 234, 'name': 'harpercollins'}, {'idx': 235, 'name': 'summer'}, {'idx': 236, 'name': 'tangerine'}, {'idx': 237, 'name': 'carrot'}, {'idx': 238, 'name': 'trout'}, {'idx': 239, 'name': 'punch'}, {'idx': 240, 'name': 'smoothie'}, {'idx': 241, 'name': 'blue_cheese'}, {'idx': 242, 'name': 'spice'}, {'idx': 243, 'name': 'backyard_bbq'}, {'idx': 244, 'name': 'washington'}, {'idx': 245, 'name': 'horseradish'}, {'idx': 246, 'name': 'white_wine'}, {'idx': 247, 'name': 'pork_rib'}, {'idx': 248, 'name': 'amaretto'}, {'idx': 249, 'name': 'poker_game_night'}, {'idx': 250, 'name': 'rosh_hashanah_yom_kippur'}, {'idx': 251, 'name': 'thanksgiving'}, {'idx': 252, 'name': 'kidney_friendly'}, {'idx': 253, 'name': 'hot_pepper'}, {'idx': 254, 'name': 'scotch'}, {'idx': 255, 'name': 'kid_friendly'}, {'idx': 256, 'name': 'bok_choy'}, {'idx': 257, 'name': 'passover'}, {'idx': 258, 'name': '22_minute_meals'}, {'idx': 259, 'name': 'créme_de_cacao'}, {'idx': 260, 'name': 'maryland'}, {'idx': 261, 'name': 'root_vegetable'}, {'idx': 262, 'name': 'lemon_juice'}, {'idx': 263, 'name': 'beet'}, {'idx': 264, 'name': 'poultry'}, {'idx': 265, 'name': 'goat_cheese'}, {'idx': 266, 'name': 'anchovy'}, {'idx': 267, 'name': 'shallot'}, {'idx': 268, 'name': 'currant'}, {'idx': 269, 'name': 'melon'}, {'idx': 270, 'name': 'grape'}, {'idx': 271, 'name': 'kwanzaa'}, {'idx': 272, 'name': 'stir_fry'}, {'idx': 273, 'name': 'turkey'}, {'idx': 274, 'name': 'coffee_grinder'}, {'idx': 275, 'name': 'pasadena'}, {'idx': 276, 'name': 'quail'}, {'idx': 277, 'name': 'ground_lamb'}, {'idx': 278, 'name': 'radicchio'}, {'idx': 279, 'name': 'chambord'}, {'idx': 280, 'name': 'stuffing_dressing'}, {'idx': 281, 'name': 'dinner'}, {'idx': 282, 'name': 'kumquat'}, {'idx': 283, 'name': 'fig'}, {'idx': 284, 'name': 'lime'}, {'idx': 285, 'name': 'barley'}, {'idx': 286, 'name': 'dried_fruit'}, {'idx': 287, 'name': 'pecan'}, {'idx': 288, 'name': 'mint'}, {'idx': 289, 'name': 'crab'}, {'idx': 290, 'name': 'brown_rice'}, {'idx': 291, 'name': 'ground_beef'}, {'idx': 292, 'name': 'hot_drink'}, {'idx': 293, 'name': 'peanut_free'}, {'idx': 294, 'name': 'pumpkin'}, {'idx': 295, 'name': 'basil'}, {'idx': 296, 'name': 'brussel_sprout'}, {'idx': 297, 'name': 'freeze_chill'}, {'idx': 298, 'name': 'rye'}, {'idx': 299, 'name': 'pasta_maker'}, {'idx': 300, 'name': 'curry'}, {'idx': 301, 'name': 'molasses'}, {'idx': 302, 'name': 'flaming_hot_summer'}, {'idx': 303, 'name': 'banana'}, {'idx': 304, 'name': 'bon_apptit'}, {'idx': 305, 'name': 'oat'}, {'idx': 306, 'name': 'hanukkah'}, {'idx': 307, 'name': 'red_wine'}, {'idx': 308, 'name': 'rack_of_lamb'}, {'idx': 309, 'name': 'artichoke'}, {'idx': 310, 'name': 'portland'}, {'idx': 311, 'name': 'sparkling_wine'}, {'idx': 312, 'name': 'lentil'}, {'idx': 313, 'name': 'whiskey'}, {'idx': 314, 'name': 'breadcrumbs'}, {'idx': 315, 'name': 'missouri'}, {'idx': 316, 'name': 'strawberry'}, {'idx': 317, 'name': 'iced_tea'}, {'idx': 318, 'name': 'aperitif'}, {'idx': 319, 'name': 'peanut_butter'}, {'idx': 320, 'name': 'swordfish'}, {'idx': 321, 'name': 'dairy_free'}, {'idx': 322, 'name': 'dip'}, {'idx': 323, 'name': 'vegetarian'}, {'idx': 324, 'name': 'condiment'}, {'idx': 325, 'name': 'chard'}, {'idx': 326, 'name': 'clove'}, {'idx': 327, 'name': 'low_cholesterol'}, {'idx': 328, 'name': 'cranberry'}, {'idx': 329, 'name': 'ireland'}, {'idx': 330, 'name': 'celery'}, {'idx': 331, 'name': 'non_alcoholic'}, {'idx': 332, 'name': 'honey'}, {'idx': 333, 'name': 'watermelon'}, {'idx': 334, 'name': 'cognac_armagnac'}, {'idx': 335, 'name': 'alcoholic'}, {'idx': 336, 'name': 'appetizer'}, {'idx': 337, 'name': 'vermouth'}, {'idx': 338, 'name': 'collard_greens'}, {'idx': 339, 'name': 'saffron'}, {'idx': 340, 'name': 'beef_tenderloin'}, {'idx': 341, 'name': 'green_onion_scallion'}, {'idx': 342, 'name': 'broccoli'}, {'idx': 343, 'name': 'raisin'}, {'idx': 344, 'name': 'berry'}, {'idx': 345, 'name': 'caraway'}, {'idx': 346, 'name': 'winter'}, {'idx': 347, 'name': 'phyllo_puff_pastry_dough'}, {'idx': 348, 'name': 'watercress'}, {'idx': 349, 'name': 'snapper'}, {'idx': 350, 'name': 'tofu'}, {'idx': 351, 'name': 'candy'}, {'idx': 352, 'name': 'sesame'}, {'idx': 353, 'name': 'tuna'}, {'idx': 354, 'name': 'casserole_gratin'}, {'idx': 355, 'name': 'beef_shank'}, {'idx': 356, 'name': 'asparagus'}, {'idx': 357, 'name': 'cocktail'}, {'idx': 358, 'name': 'macadamia_nut'}, {'idx': 359, 'name': 'papaya'}, {'idx': 360, 'name': 'breakfast'}, {'idx': 361, 'name': 'mussel'}, {'idx': 362, 'name': 'frozen_dessert'}, {'idx': 363, 'name': '3_ingredient_recipes'}, {'idx': 364, 'name': 'capers'}, {'idx': 365, 'name': 'rice'}, {'idx': 366, 'name': 'bastille_day'}, {'idx': 367, 'name': 'brandy'}, {'idx': 368, 'name': 'gin'}, {'idx': 369, 'name': 'bourbon'}, {'idx': 370, 'name': 'legume'}, {'idx': 371, 'name': 'lunch'}, {'idx': 372, 'name': 'milk_cream'}, {'idx': 373, 'name': 'pork_chop'}, {'idx': 374, 'name': 'jícama'}, {'idx': 375, 'name': 'brisket'}, {'idx': 376, 'name': 'raspberry'}, {'idx': 377, 'name': 'paleo'}, {'idx': 378, 'name': 'pescatarian'}, {'idx': 379, 'name': 'almond'}, {'idx': 380, 'name': 'mushroom'}, {'idx': 381, 'name': 'mustard'}, {'idx': 382, 'name': 'vinegar'}, {'idx': 383, 'name': 'massachusetts'}, {'idx': 384, 'name': 'picnic'}, {'idx': 385, 'name': 'washington_dc'}, {'idx': 386, 'name': 'noodle'}, {'idx': 387, 'name': 'cake'}, {'idx': 388, 'name': 'oscars'}, {'idx': 389, 'name': 'coffee'}, {'idx': 390, 'name': 'coriander'}, {'idx': 391, 'name': 'potato'}, {'idx': 392, 'name': 'ricotta'}, {'idx': 393, 'name': 'fontina'}, {'idx': 394, 'name': 'mustard_greens'}, {'idx': 395, 'name': 'plantain'}, {'idx': 396, 'name': 'sauce'}, {'idx': 397, 'name': 'butternut_squash'}, {'idx': 398, 'name': 'chive'}, {'idx': 399, 'name': 'purim'}, {'idx': 400, 'name': 'ramadan'}, {'idx': 401, 'name': 'tilapia'}, {'idx': 402, 'name': 'house_and_garden'}, {'idx': 403, 'name': 'clam'}, {'idx': 404, 'name': 'blender'}, {'idx': 405, 'name': 'florida'}, {'idx': 406, 'name': 'pork_tenderloin'}, {'idx': 407, 'name': 'fourth_of_july'}, {'idx': 408, 'name': 'ramekin'}, {'idx': 409, 'name': 'pie'}, {'idx': 410, 'name': 'herb'}, {'idx': 411, 'name': 'advance_prep_required'}, {'idx': 412, 'name': 'steak'}, {'idx': 413, 'name': 'kahlúa'}, {'idx': 414, 'name': 'texas'}, {'idx': 415, 'name': 'cauliflower'}, {'idx': 416, 'name': 'low_carb'}, {'idx': 417, 'name': 'sugar_snap_pea'}, {'idx': 418, 'name': 'grill'}, {'idx': 419, 'name': 'lime_juice'}, {'idx': 420, 'name': 'fennel'}, {'idx': 421, 'name': 'rosemary'}, {'idx': 422, 'name': 'georgia'}, {'idx': 423, 'name': 'ice_cream'}, {'idx': 424, 'name': 'frangelico'}, {'idx': 425, 'name': 'chickpea'}, {'idx': 426, 'name': 'sake'}, {'idx': 427, 'name': 'boil'}, {'idx': 428, 'name': 'snack_week'}, {'idx': 429, 'name': 'ice_cream_machine'}, {'idx': 430, 'name': 'sweet_potato_yam'}, {'idx': 431, 'name': 'butter'}, {'idx': 432, 'name': 'spirit'}, {'idx': 433, 'name': 'parsley'}, {'idx': 434, 'name': 'sangria'}, {'idx': 435, 'name': 'engagement_party'}, {'idx': 436, 'name': 'lamb_shank'}, {'idx': 437, 'name': 'nutmeg'}, {'idx': 438, 'name': 'tomato'}, {'idx': 439, 'name': 'lemongrass'}, {'idx': 440, 'name': 'wine'}, {'idx': 441, 'name': 'shower'}, {'idx': 442, 'name': 'kosher_for_passover'}, {'idx': 443, 'name': 'ginger'}, {'idx': 444, 'name': 'chocolate'}, {'idx': 445, 'name': 'coconut'}, {'idx': 446, 'name': 'virginia'}, {'idx': 447, 'name': 'one_pot_meal'}, {'idx': 448, 'name': 'sour_cream'}, {'idx': 449, 'name': 'potluck'}, {'idx': 450, 'name': 'mixer'}, {'idx': 451, 'name': 'leafy_green'}, {'idx': 452, 'name': 'edible_gift'}, {'idx': 453, 'name': 'chartreuse'}, {'idx': 454, 'name': 'pastry'}, {'idx': 455, 'name': 'calvados'}, {'idx': 456, 'name': 'santa_monica'}, {'idx': 457, 'name': 'broil'}, {'idx': 458, 'name': 'deep_fry'}, {'idx': 459, 'name': 'wheat_gluten_free'}, {'idx': 460, 'name': 'feta'}, {'idx': 461, 'name': 'condiment_spread'}, {'idx': 462, 'name': 'fish'}, {'idx': 463, 'name': 'simmer'}, {'idx': 464, 'name': 'passion_fruit'}, {'idx': 465, 'name': 'quinoa'}, {'idx': 466, 'name': 'bon_appétit'}, {'idx': 467, 'name': 'cumin'}, {'idx': 468, 'name': 'persimmon'}, {'idx': 469, 'name': 'low_no_sugar'}, {'idx': 470, 'name': 'eggplant'}, {'idx': 471, 'name': 'leek'}, {'idx': 472, 'name': 'candy_thermometer'}, {'idx': 473, 'name': 'no_cook'}, {'idx': 474, 'name': 'cinco_de_mayo'}, {'idx': 475, 'name': 'pear'}, {'idx': 476, 'name': 'quick_and_easy'}, {'idx': 477, 'name': 'fry'}, {'idx': 478, 'name': 'cashew'}, {'idx': 479, 'name': 'side'}, {'idx': 480, 'name': 'duck'}, {'idx': 481, 'name': 'peanut'}, {'idx': 482, 'name': 'graduation'}, {'idx': 483, 'name': 'apricot'}, {'idx': 484, 'name': 'cucumber'}, {'idx': 485, 'name': 'christmas_eve'}, {'idx': 486, 'name': 'hominy_cornmeal_masa'}, {'idx': 487, 'name': 'tapioca'}, {'idx': 488, 'name': 'pineapple'}, {'idx': 489, 'name': 'california'}, {'idx': 490, 'name': 'soy_free'}, {'idx': 491, 'name': 'bean'}, {'idx': 492, 'name': 'anise'}, {'idx': 493, 'name': 'soy_sauce'}, {'idx': 494, 'name': 'bulgur'}, {'idx': 495, 'name': 'zucchini'}, {'idx': 496, 'name': 'cilantro'}, {'idx': 497, 'name': 'connecticut'}, {'idx': 498, 'name': 'fall'}, {'idx': 499, 'name': 'mozzarella'}, {'idx': 500, 'name': 'new_years_day'}, {'idx': 501, 'name': 'new_mexico'}, {'idx': 502, 'name': 'citrus'}, {'idx': 503, 'name': 'wasabi'}, {'idx': 504, 'name': 'oatmeal'}, {'idx': 505, 'name': 'vanilla'}, {'idx': 506, 'name': 'continuous_scaled_0'}, {'idx': 507, 'name': 'continuous_scaled_1'}, {'idx': 508, 'name': 'continuous_scaled_2'}, {'idx': 509, 'name': 'continuous_scaled_3'}, {'idx': 510, 'name': 'continuous_scaled_4'}, {'idx': 511, 'name': 'protein_ratio'}, {'idx': 512, 'name': 'fat_ratio'}]}, 'num_attrs': 513}}\n"
     ]
    }
   ],
   "source": [
    "print(food_features.schema[\"features\"].metadata)"
   ]
  },
  {
   "attachments": {},
   "cell_type": "markdown",
   "metadata": {},
   "source": [
    "#### Training an ML model using a LogisticRegression classifier\n",
    "\n",
    "In this section, we take our original ask—is this recipe a dessert or not?—and select a first model type to integrate into our ML pipeline. Because our target is binary (0.0 or 1.0), we restrict ourselves to a classification algorithm.\n",
    "\n",
    "Before integrating our logistic regression into our pipeline, we need to create the estimator. This estimator is called `LogisticRegression` and comes from the `pyspark.ml.classification` module.\n"
   ]
  },
  {
   "cell_type": "code",
   "execution_count": 19,
   "metadata": {},
   "outputs": [
    {
     "data": {
      "text/plain": [
       "Pipeline_bf4928f9e684"
      ]
     },
     "execution_count": 19,
     "metadata": {},
     "output_type": "execute_result"
    }
   ],
   "source": [
    "from pyspark.ml.classification import LogisticRegression\n",
    "\n",
    "lr = LogisticRegression(\n",
    "    featuresCol=\"features\", labelCol=\"dessert\", predictionCol=\"prediction\"\n",
    ")\n",
    "\n",
    "food_pipeline.setStages(\n",
    "    [\n",
    "        imputer,\n",
    "        continuous_assembler,\n",
    "        continuous_scaler,\n",
    "        preml_assembler,\n",
    "        lr,\n",
    "    ]\n",
    ")"
   ]
  },
  {
   "attachments": {},
   "cell_type": "markdown",
   "metadata": {},
   "source": [
    "Up next, we `fit()` our pipeline. Before doing so, we need to split our data set into two portions using `randomSplit()`: one for _training_, which we feed to our pipeline, and one for _testing_, which is what we use to evaluate our model fit. \n",
    "\n",
    "Finally, before fitting our pipeline, we `cache()` the training data frame. We do this because machine learning uses the data frame repeatedly, so caching in memory provides an increase in speed if your cluster has enough memory."
   ]
  },
  {
   "cell_type": "code",
   "execution_count": 20,
   "metadata": {},
   "outputs": [],
   "source": [
    "train, test = food.randomSplit([0.7, 0.3], 13)\n",
    "\n",
    "train.cache()\n",
    "\n",
    "food_pipeline_model = food_pipeline.fit(train)\n",
    "results = food_pipeline_model.transform(test)"
   ]
  },
  {
   "attachments": {},
   "cell_type": "markdown",
   "metadata": {},
   "source": [
    "### Evaluating and optimizing our model\n",
    "Modeling is done. How do we know how good of a job we did? \n",
    "\n",
    "#### Assessing model accuracy: Confusion matrix and evaluator object\n",
    "\n",
    "There are multiple ways to slice and dice our model’s results; for instance, is predicting “dessert” on a liver mousse worse than predicting “not dessert” on a tiramisu? Selecting and optimizing for the appropriate metric is crucial in yielding an impactful model. We focus on two different ways to review our model results:\n",
    "- The confusion matrix, which gives us a 2 × 2 matrix of predictions versus labels and makes it easy to get metrics like precision (how good are we at identifying desserts?) and recall (how good are we at identifying not desserts?)\n",
    "- The receiver operating characteristic curve (or ROC curve), which shows the diagnostic ability of our model as we change its prediction threshold (more on this later)\n",
    "\n",
    "##### CONFUSION MATRIX: A SIMPLE WAY TO REVIEW CLASSIFICATION RESULTS\n",
    "\n",
    "<img src=\"images/confusion_matrix.png\">\n"
   ]
  },
  {
   "cell_type": "code",
   "execution_count": 21,
   "metadata": {},
   "outputs": [
    {
     "name": "stdout",
     "output_type": "stream",
     "text": [
      "+-------+----+---+\n",
      "|dessert| 0.0|1.0|\n",
      "+-------+----+---+\n",
      "|    0.0|4957| 85|\n",
      "|    1.0|  98|962|\n",
      "+-------+----+---+\n",
      "\n"
     ]
    }
   ],
   "source": [
    "results.groupby(\"dessert\").pivot(\"prediction\").count().show()"
   ]
  },
  {
   "cell_type": "code",
   "execution_count": 22,
   "metadata": {},
   "outputs": [
    {
     "name": "stdout",
     "output_type": "stream",
     "text": [
      "Model precision: 0.9188156638013372\n",
      "Model recall: 0.9075471698113208\n"
     ]
    }
   ],
   "source": [
    "# Computing the precision and recall (Spark 3.1+)\n",
    "lr_model = food_pipeline_model.stages[-1]\n",
    "metrics = lr_model.evaluate(results.select(\"title\", \"dessert\", \"features\"))\n",
    "\n",
    "# LogisticRegressionTrainingSummary\n",
    "print(f\"Model precision: {metrics.precisionByLabel[1]}\")\n",
    "print(f\"Model recall: {metrics.recallByLabel[1]}\")\n"
   ]
  },
  {
   "attachments": {},
   "cell_type": "markdown",
   "metadata": {},
   "source": [
    "#### True positives vs. false positives: the ROC curve\n",
    "\n",
    "The receiver operating characteristic curve, commonly known as a ROC (pronounced like “rock”) curve, provides a visual cue of the performance of the model.\n",
    "\n",
    "<img src=\"images/roc_curve.png\">"
   ]
  },
  {
   "cell_type": "code",
   "execution_count": 24,
   "metadata": {},
   "outputs": [
    {
     "name": "stdout",
     "output_type": "stream",
     "text": [
      "Area under ROC = 0.9914313165635079 \n"
     ]
    }
   ],
   "source": [
    "from pyspark.ml.evaluation import BinaryClassificationEvaluator\n",
    "\n",
    "evaluator = BinaryClassificationEvaluator(\n",
    "    labelCol=\"dessert\",\n",
    "    rawPredictionCol=\"rawPrediction\",\n",
    "    metricName=\"areaUnderROC\",\n",
    ")\n",
    "\n",
    "accuracy = evaluator.evaluate(results)\n",
    "\n",
    "print(f\"Area under ROC = {accuracy} \")"
   ]
  },
  {
   "cell_type": "code",
   "execution_count": 26,
   "metadata": {},
   "outputs": [
    {
     "name": "stderr",
     "output_type": "stream",
     "text": [
      "c:\\Users\\manoj\\Documents\\MANOJ\\Github\\ApacheSparkEssential\\venv\\lib\\site-packages\\pyspark\\sql\\context.py:125: FutureWarning: Deprecated in 3.0.0. Use SparkSession.builder.getOrCreate() instead.\n",
      "  warnings.warn(\n"
     ]
    },
    {
     "data": {
      "image/png": "[encoded data removed]",
      "text/plain": [
       "<Figure size 500x500 with 1 Axes>"
      ]
     },
     "metadata": {},
     "output_type": "display_data"
    }
   ],
   "source": [
    "import matplotlib.pyplot as plt\n",
    "\n",
    "plt.figure(figsize=(5, 5))\n",
    "plt.plot([0, 1], [0, 1], \"r--\")\n",
    "plt.plot(\n",
    "    lr_model.summary.roc.select(\"FPR\").collect(),\n",
    "    lr_model.summary.roc.select(\"TPR\").collect(),\n",
    ")\n",
    "plt.xlabel(\"False positive rate\")\n",
    "plt.ylabel(\"True positive rate\")\n",
    "plt.show()"
   ]
  },
  {
   "attachments": {},
   "cell_type": "markdown",
   "metadata": {},
   "source": [
    "#### Optimizing hyperparameters with cross-validation\n",
    "\n",
    "By fine-tuning some aspects of the model training (how Spark builds the fitted model), we can hope to yield better model accuracy. For this, we use a technique called cross-validation. Cross-validation resamples the data set into training and testing sets to assess the ability of the model to generalize over new data.\n",
    "\n",
    "To build the set of hyperparameters we wish to evaluate our model against, we use the `ParamGridBuilder`, which assists in creating a Param Map.\n",
    "\n",
    "For this, we start with the builder class. This builder class can take a series of `addGrid()` methods taking two parameters:\n",
    "- The Param of the stage we want to modify. In this case, our LogisticRegression estimator was assigned to the variable lr, so lr.elasticNetParam is the Param in question.\n",
    "- The values we wish to assign the hyperparameter on, passed as a list.\n",
    "\n",
    "Once we are done, we call `build()`, and a list of Param Maps is returned."
   ]
  },
  {
   "cell_type": "code",
   "execution_count": 27,
   "metadata": {},
   "outputs": [
    {
     "name": "stdout",
     "output_type": "stream",
     "text": [
      "[{Param(parent='LogisticRegression_a05d3680b6ec', name='elasticNetParam', doc='the ElasticNet mixing parameter, in range [0, 1]. For alpha = 0, the penalty is an L2 penalty. For alpha = 1, it is an L1 penalty.'): 0.0}, {Param(parent='LogisticRegression_a05d3680b6ec', name='elasticNetParam', doc='the ElasticNet mixing parameter, in range [0, 1]. For alpha = 0, the penalty is an L2 penalty. For alpha = 1, it is an L1 penalty.'): 1.0}]\n"
     ]
    }
   ],
   "source": [
    "from pyspark.ml.tuning import ParamGridBuilder\n",
    "\n",
    "grid_search = (\n",
    "    ParamGridBuilder()\n",
    "    .addGrid(lr.elasticNetParam, [0.0, 1.0])\n",
    "    .build()\n",
    ")\n",
    "\n",
    "print(grid_search)"
   ]
  },
  {
   "attachments": {},
   "cell_type": "markdown",
   "metadata": {},
   "source": [
    "Next, we need cross-validation. PySpark provides out-of-the-box K-fold cross-validation through the CrossValidator class. The CrossValidator object combines everything under a single abstraction. To build a cross-validator, we need three elements, all of which we’ve encountered so far:\n",
    "- An estimator, which contains the model we wish to evaluate (here: `food_pipeline`)\n",
    "- An estimatorParamMaps set, which is the list of Param Maps we created earlier in the section\n",
    "- An evaluator, which carries the metric we wish to optimize against.\n",
    "\n",
    "<img src=\"images/cross_validation.png\">"
   ]
  },
  {
   "cell_type": "code",
   "execution_count": 28,
   "metadata": {},
   "outputs": [
    {
     "name": "stdout",
     "output_type": "stream",
     "text": [
      "[0.9892127611615564, 0.9892129800506251]\n"
     ]
    }
   ],
   "source": [
    "from pyspark.ml.tuning import CrossValidator\n",
    "\n",
    "cv = CrossValidator(\n",
    "    estimator=food_pipeline,\n",
    "    estimatorParamMaps=grid_search,\n",
    "    evaluator=evaluator,\n",
    "    numFolds=3,\n",
    "    seed=13,\n",
    "    collectSubModels=True,\n",
    ")\n",
    "\n",
    "cv_model = cv.fit(train)\n",
    "\n",
    "print(cv_model.avgMetrics)\n",
    "\n",
    "pipeline_food_model = cv_model.bestModel"
   ]
  },
  {
   "attachments": {},
   "cell_type": "markdown",
   "metadata": {},
   "source": [
    "### Getting the biggest drivers from our model: Extracting the coefficients\n",
    "This section covers the extraction of our model features and their coefficients. We use those coefficients to get a sense of the most important features of the model and plan some improvements for a second iteration."
   ]
  },
  {
   "cell_type": "code",
   "execution_count": 29,
   "metadata": {},
   "outputs": [
    {
     "name": "stdout",
     "output_type": "stream",
     "text": [
      "                          coef   abs_coef\n",
      "noodle               -0.008796   0.008796\n",
      "picnic               -0.027102   0.027102\n",
      "continuous_scaled_0   0.031784   0.031784\n",
      "pie                   0.037988   0.037988\n",
      "cinnamon             -0.048031   0.048031\n",
      "...                        ...        ...\n",
      "squid               -15.215416  15.215416\n",
      "horseradish         -16.659087  16.659087\n",
      "sangria             -18.324526  18.324526\n",
      "plantain            -18.621401  18.621401\n",
      "arugula             -19.459197  19.459197\n",
      "\n",
      "[514 rows x 2 columns]\n"
     ]
    }
   ],
   "source": [
    "import pandas as pd\n",
    "\n",
    "feature_names = [\"(Intercept)\"] + [\n",
    "    x[\"name\"]\n",
    "    for x in (\n",
    "        food_features\n",
    "        .schema[\"features\"]\n",
    "        .metadata[\"ml_attr\"][\"attrs\"][\"numeric\"]\n",
    "    )\n",
    "]\n",
    "\n",
    "feature_coefficients = [lr_model.intercept] + list(\n",
    "                                                    lr_model.coefficients.values\n",
    "                                                    )\n",
    "\n",
    "coefficients = pd.DataFrame(\n",
    "    feature_coefficients, index=feature_names, columns=[\"coef\"]\n",
    ")\n",
    "\n",
    "coefficients[\"abs_coef\"] = coefficients[\"coef\"].abs()\n",
    "\n",
    "print(coefficients.sort_values([\"abs_coef\"]))"
   ]
  },
  {
   "attachments": {},
   "cell_type": "markdown",
   "metadata": {},
   "source": [
    "A coefficient close to zero, like kirsch, lemon, and food_processor, means that this feature is not very predictive of our model. On the flip side, a very high or low coefficient, like cauliflower, horseradish, and quick_and_healthy, means that this feature is highly predictive. When using a linear model, a positive coefficient means that the feature will predict toward a 1.0 (the dish is a dessert). Our results are not too surprising; looking at the very negative features, it seems that the presence of horseradish or a “quick and healthy” recipe means “not a dessert!”"
   ]
  },
  {
   "cell_type": "markdown",
   "metadata": {},
   "source": []
  }
 ],
 "metadata": {
  "kernelspec": {
   "display_name": "venv",
   "language": "python",
   "name": "python3"
  },
  "language_info": {
   "codemirror_mode": {
    "name": "ipython",
    "version": 3
   },
   "file_extension": ".py",
   "mimetype": "text/x-python",
   "name": "python",
   "nbconvert_exporter": "python",
   "pygments_lexer": "ipython3",
   "version": "3.8.10"
  },
  "orig_nbformat": 4,
  "vscode": {
   "interpreter": {
    "hash": "05de79a9bc4beb95fb2b07d395d8e3fe55e6d8497bda19361fbfb16b724883dd"
   }
  }
 },
 "nbformat": 4,
 "nbformat_minor": 2
}
